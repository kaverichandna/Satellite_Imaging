{
  "cells": [
    {
      "cell_type": "code",
      "execution_count": 1,
      "metadata": {
        "colab": {
          "base_uri": "https://localhost:8080/"
        },
        "id": "d0bb5a9f-dce0-451b-be9a-0fbfce8fae43",
        "outputId": "b3407fd2-c44d-4f2e-a01e-692caaaf749e"
      },
      "outputs": [
        {
          "name": "stdout",
          "output_type": "stream",
          "text": [
            "Collecting requests\n",
            "  Using cached requests-2.31.0-py3-none-any.whl.metadata (4.6 kB)\n",
            "Collecting pandas\n",
            "  Using cached pandas-2.2.2-cp39-cp39-macosx_11_0_arm64.whl.metadata (19 kB)\n",
            "Collecting geopandas\n",
            "  Using cached geopandas-0.14.4-py3-none-any.whl.metadata (1.5 kB)\n",
            "Collecting shapely\n",
            "  Using cached shapely-2.0.4-cp39-cp39-macosx_11_0_arm64.whl.metadata (7.0 kB)\n",
            "Collecting charset-normalizer<4,>=2 (from requests)\n",
            "  Using cached charset_normalizer-3.3.2-cp39-cp39-macosx_11_0_arm64.whl.metadata (33 kB)\n",
            "Collecting idna<4,>=2.5 (from requests)\n",
            "  Using cached idna-3.7-py3-none-any.whl.metadata (9.9 kB)\n",
            "Collecting urllib3<3,>=1.21.1 (from requests)\n",
            "  Using cached urllib3-2.2.1-py3-none-any.whl.metadata (6.4 kB)\n",
            "Collecting certifi>=2017.4.17 (from requests)\n",
            "  Using cached certifi-2024.2.2-py3-none-any.whl.metadata (2.2 kB)\n",
            "Collecting numpy>=1.22.4 (from pandas)\n",
            "  Using cached numpy-1.26.4-cp39-cp39-macosx_11_0_arm64.whl.metadata (61 kB)\n",
            "Requirement already satisfied: python-dateutil>=2.8.2 in ./.venv/lib/python3.9/site-packages (from pandas) (2.9.0.post0)\n",
            "Collecting pytz>=2020.1 (from pandas)\n",
            "  Using cached pytz-2024.1-py2.py3-none-any.whl.metadata (22 kB)\n",
            "Collecting tzdata>=2022.7 (from pandas)\n",
            "  Using cached tzdata-2024.1-py2.py3-none-any.whl.metadata (1.4 kB)\n",
            "Collecting fiona>=1.8.21 (from geopandas)\n",
            "  Using cached fiona-1.9.6-cp39-cp39-macosx_11_0_arm64.whl.metadata (50 kB)\n",
            "Requirement already satisfied: packaging in ./.venv/lib/python3.9/site-packages (from geopandas) (24.0)\n",
            "Collecting pyproj>=3.3.0 (from geopandas)\n",
            "  Using cached pyproj-3.6.1-cp39-cp39-macosx_11_0_arm64.whl.metadata (31 kB)\n",
            "Collecting attrs>=19.2.0 (from fiona>=1.8.21->geopandas)\n",
            "  Using cached attrs-23.2.0-py3-none-any.whl.metadata (9.5 kB)\n",
            "Collecting click~=8.0 (from fiona>=1.8.21->geopandas)\n",
            "  Using cached click-8.1.7-py3-none-any.whl.metadata (3.0 kB)\n",
            "Collecting click-plugins>=1.0 (from fiona>=1.8.21->geopandas)\n",
            "  Using cached click_plugins-1.1.1-py2.py3-none-any.whl.metadata (6.4 kB)\n",
            "Collecting cligj>=0.5 (from fiona>=1.8.21->geopandas)\n",
            "  Using cached cligj-0.7.2-py3-none-any.whl.metadata (5.0 kB)\n",
            "Requirement already satisfied: six in ./.venv/lib/python3.9/site-packages (from fiona>=1.8.21->geopandas) (1.16.0)\n",
            "Requirement already satisfied: importlib-metadata in ./.venv/lib/python3.9/site-packages (from fiona>=1.8.21->geopandas) (7.1.0)\n",
            "Requirement already satisfied: zipp>=0.5 in ./.venv/lib/python3.9/site-packages (from importlib-metadata->fiona>=1.8.21->geopandas) (3.18.1)\n",
            "Using cached requests-2.31.0-py3-none-any.whl (62 kB)\n",
            "Using cached pandas-2.2.2-cp39-cp39-macosx_11_0_arm64.whl (11.3 MB)\n",
            "Using cached geopandas-0.14.4-py3-none-any.whl (1.1 MB)\n",
            "Using cached shapely-2.0.4-cp39-cp39-macosx_11_0_arm64.whl (1.3 MB)\n",
            "Using cached certifi-2024.2.2-py3-none-any.whl (163 kB)\n",
            "Using cached charset_normalizer-3.3.2-cp39-cp39-macosx_11_0_arm64.whl (120 kB)\n",
            "Using cached fiona-1.9.6-cp39-cp39-macosx_11_0_arm64.whl (13.9 MB)\n",
            "Using cached idna-3.7-py3-none-any.whl (66 kB)\n",
            "Using cached numpy-1.26.4-cp39-cp39-macosx_11_0_arm64.whl (14.0 MB)\n",
            "Using cached pyproj-3.6.1-cp39-cp39-macosx_11_0_arm64.whl (4.9 MB)\n",
            "Using cached pytz-2024.1-py2.py3-none-any.whl (505 kB)\n",
            "Using cached tzdata-2024.1-py2.py3-none-any.whl (345 kB)\n",
            "Using cached urllib3-2.2.1-py3-none-any.whl (121 kB)\n",
            "Using cached attrs-23.2.0-py3-none-any.whl (60 kB)\n",
            "Using cached click-8.1.7-py3-none-any.whl (97 kB)\n",
            "Using cached click_plugins-1.1.1-py2.py3-none-any.whl (7.5 kB)\n",
            "Using cached cligj-0.7.2-py3-none-any.whl (7.1 kB)\n",
            "Installing collected packages: pytz, urllib3, tzdata, numpy, idna, click, charset-normalizer, certifi, attrs, shapely, requests, pyproj, pandas, cligj, click-plugins, fiona, geopandas\n",
            "Successfully installed attrs-23.2.0 certifi-2024.2.2 charset-normalizer-3.3.2 click-8.1.7 click-plugins-1.1.1 cligj-0.7.2 fiona-1.9.6 geopandas-0.14.4 idna-3.7 numpy-1.26.4 pandas-2.2.2 pyproj-3.6.1 pytz-2024.1 requests-2.31.0 shapely-2.0.4 tzdata-2024.1 urllib3-2.2.1\n",
            "Note: you may need to restart the kernel to use updated packages.\n"
          ]
        }
      ],
      "source": [
        "%pip install requests pandas geopandas shapely"
      ]
    },
    {
      "cell_type": "code",
      "execution_count": null,
      "metadata": {},
      "outputs": [],
      "source": [
        "from datetime import datetime\n",
        "from typing import Optional\n",
        "from abc import ABC, abstractmethod\n",
        "\n",
        "import requests\n",
        "import logging\n",
        "import re"
      ]
    },
    {
      "cell_type": "code",
      "execution_count": 3,
      "metadata": {
        "id": "s6mUH0cjC61R"
      },
      "outputs": [],
      "source": [
        "import pandas as pd\n",
        "import geopandas as gpd\n",
        "from shapely.geometry import shape"
      ]
    },
    {
      "cell_type": "code",
      "execution_count": 4,
      "metadata": {},
      "outputs": [],
      "source": [
        "DATA_COLLECTION = \"SENTINEL-2\"\n",
        "DATE_FORMAT = \"%Y-%m-%dT00:00:00.000Z\"\n",
        "COORDINATES_REGEX = \"^[-+]?([1-8]?\\d(\\.\\d+)?|90(\\.0+)?),\\s*[-+]?(180(\\.0+)?|((1[0-7]\\d)|([1-9]?\\d))(\\.\\d+)?)$\"\n",
        "AUTH_URL  = \"https://identity.dataspace.copernicus.eu/auth/realms/CDSE/protocol/openid-connect/token\"\n",
        "PRODUCTS_URL = \"https://catalogue.dataspace.copernicus.eu/odata/v1/Products\"\n",
        "DOWNLOAD_URL = \"https://download.dataspace.copernicus.eu/odata/v1/Products\""
      ]
    },
    {
      "cell_type": "code",
      "execution_count": 5,
      "metadata": {},
      "outputs": [],
      "source": [
        "# TODO: Move username and password into an .env file and use python env or os.environ to access the values\n",
        "copernicus_username = \"21ssds415008@msruas.ac.in\"\n",
        "copernicus_password = \"Myresearch@2021\""
      ]
    },
    {
      "cell_type": "code",
      "execution_count": 6,
      "metadata": {},
      "outputs": [],
      "source": [
        "class Coordinates(ABC):\n",
        "    @abstractmethod\n",
        "    def stringify(self) -> str:\n",
        "        pass\n",
        "\n",
        "class Point(Coordinates):\n",
        "    longitude: str\n",
        "    latitude: str\n",
        "\n",
        "    def __init__(self, longitude: str, latitude: str) -> None:\n",
        "        is_coordinate = re.match(COORDINATES_REGEX, f\"{latitude}, {longitude}\")\n",
        "\n",
        "        if not is_coordinate:\n",
        "            raise Exception(\n",
        "                \"The given coordinate string does not match the type of a coordinate\"\n",
        "            )\n",
        "\n",
        "        self.longitude = longitude\n",
        "        self.latitude = latitude\n",
        "\n",
        "    def __str__(self) -> str:\n",
        "        return f\"{self.latitude} {self.longitude}\"\n",
        "\n",
        "    def stringify(self) -> str:\n",
        "        return f\"POINT({self})\"\n",
        "\n",
        "class Polygon(Coordinates):\n",
        "    def __init__(self, coordinates: list[Point]) -> None:\n",
        "        if len(coordinates) < 4:\n",
        "            raise ValueError(\"There must be atleast 4 coordinates\")\n",
        "\n",
        "        if coordinates[-1].stringify() != coordinates[0].stringify():\n",
        "            raise ValueError(\"There starting and ending coordinates should be the same\")\n",
        "\n",
        "        self.coordinates = coordinates\n",
        "\n",
        "    def __str__(self) -> str:\n",
        "        coordinates_list = [str(coordinate) for coordinate in self.coordinates]\n",
        "        return \",\".join(coordinates_list)\n",
        "\n",
        "    def stringify(self):\n",
        "        return f\"POLYGON(({self}))\"\n"
      ]
    },
    {
      "cell_type": "code",
      "execution_count": 8,
      "metadata": {
        "id": "TY_FRZxxDCz7"
      },
      "outputs": [],
      "source": [
        "def get_access_token(username: str, password: str) -> Optional[str]:\n",
        "    logging.info(f\"Username: {username}, Password: {password}\")\n",
        "    data = {\n",
        "        \"client_id\": \"cdse-public\",\n",
        "        \"username\": username,\n",
        "        \"password\": password,\n",
        "        \"grant_type\": \"password\",\n",
        "    }\n",
        "\n",
        "    response = request.post(AUTH_URL, data=data)\n",
        "    if response.status_code != 200:\n",
        "        logging.error(f\"Could not get access token, request returned status code {response.status_code}\")\n",
        "        return None\n",
        "    \n",
        "    json_response = response.json()\n",
        "    return json_response.get(\"access_token\")"
      ]
    },
    {
      "cell_type": "code",
      "execution_count": null,
      "metadata": {},
      "outputs": [],
      "source": [
        "def get_report(coordinates: Coordinates, start_date: datetime, end_date: datetime, top: int = 1000, count: bool = True) -> Optional[dict]:\n",
        "    filters = [\n",
        "        f\"Collection/Name eq '{DATA_COLLECTION}'\",\n",
        "        f\"OData.CSC.Intersects(area=geography'SRID=4326;{coordinates.stringify()}')\",\n",
        "        f\"ContentDate/Start gt {start_date.strftime(DATE_FORMAT)}\",\n",
        "        f\"ContentDate/Start lt {end_date.strftime(DATE_FORMAT)}\",\n",
        "    ]\n",
        "\n",
        "    url = PRODUCTS_URL + f\"?$filter={' and '.join(filters)}&$count={\"True\" if count else \"False\"}&$top={top}\"\n",
        "    logging.info(f\"Sending a get request to {url}\")\n",
        "\n",
        "    response = requests.get(url)\n",
        "    if response.status_code != 200:\n",
        "        logging.error(f\"Could not get report, request returned status code {response.status_code}\")\n",
        "        return None\n",
        "    \n",
        "    json_data = response.json()\n",
        "    return json_data.get(\"value\")"
      ]
    },
    {
      "cell_type": "code",
      "execution_count": null,
      "metadata": {},
      "outputs": [],
      "source": [
        "def process_data(data: dict):\n",
        "    dataframes = pd.DataFrame.from_dict(data)\n",
        "    if dataframes.shape[0] > 0:\n",
        "        dataframes['geometry'] = dataframes[\"GeoFootprint\"].apply(shape)\n",
        "        geo_dataframes = gpd.GeoDataFrame(dataframes).set_geometry(\"geometry\") # Convert PD to GPD\n",
        "        geo_dataframes = geo_dataframes[~geo_dataframes[\"Name\"].str.contians(\"L1C\")]\n",
        "        logging.info(f\"Total L2A tiles found {len(geo_dataframes)}\")\n",
        "        geo_dataframes[\"identifier\"] = geo_dataframes[\"Name\"].str.split(\".\").str[0]\n",
        "        \n",
        "        return geo_dataframes"
      ]
    },
    {
      "cell_type": "code",
      "execution_count": null,
      "metadata": {},
      "outputs": [],
      "source": [
        "def download_image(token: str, uuid: str) -> None:\n",
        "    session = requests.Session()\n",
        "    headers = {\"Authorization\": f\"Bearer {token}\"}\n",
        "    session.headers.update(headers)\n",
        "    url = DOWNLOAD_URL + f\"({uuid})/$value\"\n",
        "    response = session.get(url, headers=headers, stream=True)\n",
        "    if response.status_code != 200:\n",
        "        logging.error(f\"Unable to download the image, request returned with {response.status_code}.\")\n",
        "        return\n",
        "    with open(f\"{uuid}.zip\", \"wb\") as file:\n",
        "        for chunk in response.iter_content(chunk_size=8192):\n",
        "            if chunk:\n",
        "                file.write(chunk)\n",
        "            logging.info(f\"Finished Downloading the image\")"
      ]
    },
    {
      "cell_type": "code",
      "execution_count": null,
      "metadata": {},
      "outputs": [],
      "source": [
        "if __name__ == \"__main__\":\n",
        "\n",
        "    point = Point(longitude=\"57.692102513344906\", latitude=\"-20.4745116407249\")\n",
        "    polygon = Polygon(\n",
        "        coordinates=[\n",
        "            Point(\"57.692102513344906\", \"-20.35226228118077\"),\n",
        "            Point(\"57.692102513344906\", \"-20.4745116407249\"),\n",
        "            Point(\"57.77699025382094\", \"-20.4745116407249\"),\n",
        "            Point(\"57.77699025382094\", \"-20.35226228118077\"),\n",
        "            Point(\"57.692102513344906\", \"-20.35226228118077\"),\n",
        "        ]\n",
        "    )\n",
        "    start_date = datetime(2020, 9, 10)\n",
        "    end_date = datetime(2020, 9, 20)\n",
        "\n",
        "\n",
        "    report = get_report(polygon, start_date, end_date)\n",
        "    if report:\n",
        "        data = process_data(report)\n",
        "        if data:\n",
        "            token = get_access_token(copernicus_username, copernicus_password)\n",
        "            for index, feature in enumerate(data.iterfeatures()):\n",
        "                download_image(token, feature['properties']['Id'])"
      ]
    },
    {
      "cell_type": "code",
      "execution_count": 1,
      "metadata": {},
      "outputs": [
        {
          "name": "stdout",
          "output_type": "stream",
          "text": [
            "Collecting flask\n",
            "  Downloading flask-3.0.3-py3-none-any.whl.metadata (3.2 kB)\n",
            "Collecting Werkzeug>=3.0.0 (from flask)\n",
            "  Downloading werkzeug-3.0.3-py3-none-any.whl.metadata (3.7 kB)\n",
            "Collecting Jinja2>=3.1.2 (from flask)\n",
            "  Downloading jinja2-3.1.4-py3-none-any.whl.metadata (2.6 kB)\n",
            "Collecting itsdangerous>=2.1.2 (from flask)\n",
            "  Downloading itsdangerous-2.2.0-py3-none-any.whl.metadata (1.9 kB)\n",
            "Collecting click>=8.1.3 (from flask)\n",
            "  Using cached click-8.1.7-py3-none-any.whl.metadata (3.0 kB)\n",
            "Collecting blinker>=1.6.2 (from flask)\n",
            "  Downloading blinker-1.8.2-py3-none-any.whl.metadata (1.6 kB)\n",
            "Requirement already satisfied: importlib-metadata>=3.6.0 in ./.venv/lib/python3.9/site-packages (from flask) (7.1.0)\n",
            "Requirement already satisfied: zipp>=0.5 in ./.venv/lib/python3.9/site-packages (from importlib-metadata>=3.6.0->flask) (3.18.1)\n",
            "Collecting MarkupSafe>=2.0 (from Jinja2>=3.1.2->flask)\n",
            "  Downloading MarkupSafe-2.1.5-cp39-cp39-macosx_10_9_universal2.whl.metadata (3.0 kB)\n",
            "Downloading flask-3.0.3-py3-none-any.whl (101 kB)\n",
            "\u001b[2K   \u001b[90m━━━━━━━━━━━━━━━━━━━━━━━━━━━━━━━━━━━━━━━━\u001b[0m \u001b[32m101.7/101.7 kB\u001b[0m \u001b[31m1.7 MB/s\u001b[0m eta \u001b[36m0:00:00\u001b[0ma \u001b[36m0:00:01\u001b[0m\n",
            "\u001b[?25hDownloading blinker-1.8.2-py3-none-any.whl (9.5 kB)\n",
            "Using cached click-8.1.7-py3-none-any.whl (97 kB)\n",
            "Downloading itsdangerous-2.2.0-py3-none-any.whl (16 kB)\n",
            "Downloading jinja2-3.1.4-py3-none-any.whl (133 kB)\n",
            "\u001b[2K   \u001b[90m━━━━━━━━━━━━━━━━━━━━━━━━━━━━━━━━━━━━━━━━\u001b[0m \u001b[32m133.3/133.3 kB\u001b[0m \u001b[31m1.8 MB/s\u001b[0m eta \u001b[36m0:00:00\u001b[0m \u001b[36m0:00:01\u001b[0m\n",
            "\u001b[?25hDownloading werkzeug-3.0.3-py3-none-any.whl (227 kB)\n",
            "\u001b[2K   \u001b[90m━━━━━━━━━━━━━━━━━━━━━━━━━━━━━━━━━━━━━━━━\u001b[0m \u001b[32m227.3/227.3 kB\u001b[0m \u001b[31m1.3 MB/s\u001b[0m eta \u001b[36m0:00:00\u001b[0m \u001b[36m0:00:01\u001b[0mm\n",
            "\u001b[?25hDownloading MarkupSafe-2.1.5-cp39-cp39-macosx_10_9_universal2.whl (18 kB)\n",
            "Installing collected packages: MarkupSafe, itsdangerous, click, blinker, Werkzeug, Jinja2, flask\n",
            "Successfully installed Jinja2-3.1.4 MarkupSafe-2.1.5 Werkzeug-3.0.3 blinker-1.8.2 click-8.1.7 flask-3.0.3 itsdangerous-2.2.0\n",
            "Note: you may need to restart the kernel to use updated packages.\n"
          ]
        }
      ],
      "source": [
        "%pip install flask"
      ]
    },
    {
      "cell_type": "code",
      "execution_count": 2,
      "metadata": {},
      "outputs": [],
      "source": [
        "from flask import Flask, request"
      ]
    },
    {
      "cell_type": "code",
      "execution_count": 3,
      "metadata": {},
      "outputs": [],
      "source": [
        "app = Flask(__name__)\n",
        "\n",
        "@app.route(\"/images\")\n",
        "def get_images():\n",
        "    latitude = request.args.get('latitude')\n",
        "    longitude = request.args.get('longitude')\n",
        "    from_date = request.args.get(\"from\")\n",
        "    to_date = request.args.get(\"to\")\n",
        "\n",
        "    if latitude and longitude and from_date and to_date:\n",
        "        images = []\n",
        "        report = get_report(Point(latitude=latitude, longitude=longitude), datetime(from_date), datetime(to_date))\n",
        "        if (report):\n",
        "            data = process_data(report)\n",
        "            if data:\n",
        "                token = get_access_token(copernicus_username, copernicus_password)\n",
        "                for feature in data.iterfeatures():\n",
        "                    # TODO: This is going to take a long time due to some images being more than 100MB to download so insted show a wait time\n",
        "                    images.append(download_image(token, feature[\"property\"][\"Id\"]))\n",
        "        return images\n",
        "\n",
        "    return \"\", 400"
      ]
    },
    {
      "cell_type": "code",
      "execution_count": 4,
      "metadata": {},
      "outputs": [
        {
          "name": "stdout",
          "output_type": "stream",
          "text": [
            " * Serving Flask app '__main__'\n",
            " * Debug mode: off\n"
          ]
        },
        {
          "name": "stderr",
          "output_type": "stream",
          "text": [
            "\u001b[31m\u001b[1mWARNING: This is a development server. Do not use it in a production deployment. Use a production WSGI server instead.\u001b[0m\n",
            " * Running on http://127.0.0.1:5000\n",
            "\u001b[33mPress CTRL+C to quit\u001b[0m\n",
            "127.0.0.1 - - [13/May/2024 10:33:52] \"\u001b[33mGET / HTTP/1.1\u001b[0m\" 404 -\n",
            "127.0.0.1 - - [13/May/2024 10:33:52] \"\u001b[33mGET /favicon.ico HTTP/1.1\u001b[0m\" 404 -\n",
            "127.0.0.1 - - [13/May/2024 10:33:57] \"GET /images HTTP/1.1\" 200 -\n"
          ]
        },
        {
          "name": "stdout",
          "output_type": "stream",
          "text": [
            "None\n"
          ]
        },
        {
          "name": "stderr",
          "output_type": "stream",
          "text": [
            "127.0.0.1 - - [13/May/2024 10:34:19] \"GET /images?latitude=32.323432 HTTP/1.1\" 200 -\n"
          ]
        },
        {
          "name": "stdout",
          "output_type": "stream",
          "text": [
            "32.323432\n"
          ]
        }
      ],
      "source": [
        "app.run()"
      ]
    }
  ],
  "metadata": {
    "colab": {
      "provenance": []
    },
    "kernelspec": {
      "display_name": "Python 3",
      "name": "python3"
    },
    "language_info": {
      "codemirror_mode": {
        "name": "ipython",
        "version": 3
      },
      "file_extension": ".py",
      "mimetype": "text/x-python",
      "name": "python",
      "nbconvert_exporter": "python",
      "pygments_lexer": "ipython3",
      "version": "3.9.6"
    }
  },
  "nbformat": 4,
  "nbformat_minor": 0
}
