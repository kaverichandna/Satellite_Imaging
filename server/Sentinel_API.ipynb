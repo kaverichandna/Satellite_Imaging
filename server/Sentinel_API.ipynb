{
  "cells": [
    {
      "cell_type": "code",
      "execution_count": 6,
      "metadata": {
        "colab": {
          "base_uri": "https://localhost:8080/"
        },
        "id": "d0bb5a9f-dce0-451b-be9a-0fbfce8fae43",
        "outputId": "b3407fd2-c44d-4f2e-a01e-692caaaf749e"
      },
      "outputs": [
        {
          "name": "stdout",
          "output_type": "stream",
          "text": [
            "Requirement already satisfied: requests in /usr/local/lib/python3.10/dist-packages (2.31.0)\n",
            "Requirement already satisfied: pandas in /usr/local/lib/python3.10/dist-packages (2.0.3)\n",
            "Requirement already satisfied: geopandas in /usr/local/lib/python3.10/dist-packages (0.13.2)\n",
            "Requirement already satisfied: shapely in /usr/local/lib/python3.10/dist-packages (2.0.4)\n",
            "Requirement already satisfied: charset-normalizer<4,>=2 in /usr/local/lib/python3.10/dist-packages (from requests) (3.3.2)\n",
            "Requirement already satisfied: idna<4,>=2.5 in /usr/local/lib/python3.10/dist-packages (from requests) (3.7)\n",
            "Requirement already satisfied: urllib3<3,>=1.21.1 in /usr/local/lib/python3.10/dist-packages (from requests) (2.0.7)\n",
            "Requirement already satisfied: certifi>=2017.4.17 in /usr/local/lib/python3.10/dist-packages (from requests) (2024.2.2)\n",
            "Requirement already satisfied: python-dateutil>=2.8.2 in /usr/local/lib/python3.10/dist-packages (from pandas) (2.8.2)\n",
            "Requirement already satisfied: pytz>=2020.1 in /usr/local/lib/python3.10/dist-packages (from pandas) (2023.4)\n",
            "Requirement already satisfied: tzdata>=2022.1 in /usr/local/lib/python3.10/dist-packages (from pandas) (2024.1)\n",
            "Requirement already satisfied: numpy>=1.21.0 in /usr/local/lib/python3.10/dist-packages (from pandas) (1.25.2)\n",
            "Requirement already satisfied: fiona>=1.8.19 in /usr/local/lib/python3.10/dist-packages (from geopandas) (1.9.6)\n",
            "Requirement already satisfied: packaging in /usr/local/lib/python3.10/dist-packages (from geopandas) (24.0)\n",
            "Requirement already satisfied: pyproj>=3.0.1 in /usr/local/lib/python3.10/dist-packages (from geopandas) (3.6.1)\n",
            "Requirement already satisfied: attrs>=19.2.0 in /usr/local/lib/python3.10/dist-packages (from fiona>=1.8.19->geopandas) (23.2.0)\n",
            "Requirement already satisfied: click~=8.0 in /usr/local/lib/python3.10/dist-packages (from fiona>=1.8.19->geopandas) (8.1.7)\n",
            "Requirement already satisfied: click-plugins>=1.0 in /usr/local/lib/python3.10/dist-packages (from fiona>=1.8.19->geopandas) (1.1.1)\n",
            "Requirement already satisfied: cligj>=0.5 in /usr/local/lib/python3.10/dist-packages (from fiona>=1.8.19->geopandas) (0.7.2)\n",
            "Requirement already satisfied: six in /usr/local/lib/python3.10/dist-packages (from fiona>=1.8.19->geopandas) (1.16.0)\n"
          ]
        }
      ],
      "source": [
        "pip install requests pandas geopandas shapely"
      ]
    },
    {
      "cell_type": "code",
      "execution_count": null,
      "metadata": {},
      "outputs": [],
      "source": [
        "from dataclasses import dataclass\n",
        "from datetime import datetime\n",
        "from typing import Optional\n",
        "\n",
        "import requests\n",
        "import logging"
      ]
    },
    {
      "cell_type": "code",
      "execution_count": 7,
      "metadata": {
        "id": "s6mUH0cjC61R"
      },
      "outputs": [],
      "source": [
        "import pandas as pd\n",
        "import geopandas as gpd\n",
        "from shapely.geometry import shape"
      ]
    },
    {
      "cell_type": "code",
      "execution_count": null,
      "metadata": {},
      "outputs": [],
      "source": [
        "DATE_FORMAT = \"%Y-%m-%dT00:00:00.000Z\"\n",
        "AUTH_URL  = \"https://identity.dataspace.copernicus.eu/auth/realms/CDSE/protocol/openid-connect/token\"\n",
        "PRODUCTS_URL = \"https://catalogue.dataspace.copernicus.eu/odata/v1/Products\"\n",
        "DOWNLOAD_URL = \"https://download.dataspace.copernicus.eu/odata/v1/Products\""
      ]
    },
    {
      "cell_type": "code",
      "execution_count": null,
      "metadata": {},
      "outputs": [],
      "source": [
        "copernicus_username = \"21ssds415008@msruas.ac.in\"\n",
        "copernicus_password = \"Myresearch@2021\"\n",
        "data_collection = \"SENTINEL-2\""
      ]
    },
    {
      "cell_type": "code",
      "execution_count": null,
      "metadata": {},
      "outputs": [],
      "source": [
        "@dataclass()\n",
        "class Coordinates:\n",
        "    longitude: str\n",
        "    latitude: str\n",
        "\n",
        "    def stringify(self) -> str:\n",
        "        return f\"{self.longitude} {self.latitude}\""
      ]
    },
    {
      "cell_type": "code",
      "execution_count": 8,
      "metadata": {
        "id": "TY_FRZxxDCz7"
      },
      "outputs": [],
      "source": [
        "def get_access_token(username: str, password: str) -> Optional[str]:\n",
        "    logging.info(f\"Username: {username}, Password: {password}\")\n",
        "    data = {\n",
        "        \"client_id\": \"cdse-public\",\n",
        "        \"username\": username,\n",
        "        \"password\": password,\n",
        "        \"grant_type\": \"password\",\n",
        "    }\n",
        "\n",
        "    response = request.post(AUTH_URL, data=data)\n",
        "    if response.status_code != 200:\n",
        "        return None\n",
        "    \n",
        "    json_response = response.json()\n",
        "    return json_response.get(\"access_token\")"
      ]
    },
    {
      "cell_type": "code",
      "execution_count": null,
      "metadata": {},
      "outputs": [],
      "source": [
        "def get_report(coordinates: Coordinates, start_date: datetime, end_date: datetime) -> Optional[dict]:\n",
        "    # ft='POLYGON ((57.692102513344906 -20.35226228118077, 57.692102513344906 -20.4745116407249, 57.77699025382094 -20.4745116407249, 57.77699025382094 -20.35226228118077, 57.692102513344906 -20.35226228118077))'\n",
        "    filters = [\n",
        "        f\"Collection/Name eq '{data_collection}'\",\n",
        "        # f\"OData.CSC.Intersects(area=geography'SRID=4326;{polygon}')\",\n",
        "        f\"OData.CSC.Intersects(area=geography'SRID=4326;POINT({coordinates.stringify()})')\",\n",
        "        f\"ContentDate/Start gt {start_date.strftime(DATE_FORMAT)}\",\n",
        "        f\"ContentDate/Start lt {end_date.strftime(DATE_FORMAT)}\",\n",
        "    ]\n",
        "\n",
        "    response = requests.get(PRODUCTS_URL + f\"?$filter={' and '.join(filters)}&$count=True&$top=1000\")\n",
        "    if response.status_code != 200:\n",
        "        return None\n",
        "    \n",
        "    json_data = response.json()\n",
        "    return json_data.get(\"value\")"
      ]
    },
    {
      "cell_type": "code",
      "execution_count": null,
      "metadata": {},
      "outputs": [],
      "source": [
        "def download_image(token: str, uuid: str) -> None:\n",
        "    session = requests.Session()\n",
        "    session.headers.update({\"Authorization\": f\"Bearer {token}\"})\n",
        "    url = DOWNLOAD_URL + f\"({uuid})/$value\"\n",
        "    # response = session.get(url, allow_redirects=False)\n",
        "    return url"
      ]
    },
    {
      "cell_type": "code",
      "execution_count": null,
      "metadata": {},
      "outputs": [],
      "source": [
        "def process_data(data: dict):\n",
        "    dataframes = pd.DataFrame.from_dict(data)\n",
        "    if dataframes.shape[0] > 0:\n",
        "        dataframes['geometry'] = dataframes[\"GeoFootprint\"].apply(shape)\n",
        "        geo_dataframes = gpd.GeoDataFrame(dataframes).set_geometry(\"geometry\") # Convert PD to GPD\n",
        "        geo_dataframes = geo_dataframes[~geo_dataframes[\"Name\"].str.contians(\"L1C\")]\n",
        "        logging.info(f\"Total L2A tiles found {len(geo_dataframes)}\")\n",
        "        geo_dataframes[\"identifier\"] = geo_dataframes[\"Name\"].str.split(\".\").str[0]\n",
        "        \n",
        "        return geo_dataframes"
      ]
    },
    {
      "cell_type": "code",
      "execution_count": null,
      "metadata": {},
      "outputs": [],
      "source": [
        "coordinates = Coordinates(longitude=\"57.692102513344906\", latitude=\"-20.4745116407249\")\n",
        "start_date = datetime(2020, 9, 10)\n",
        "end_date = datetime(2020, 9, 20)"
      ]
    },
    {
      "cell_type": "code",
      "execution_count": null,
      "metadata": {},
      "outputs": [],
      "source": [
        "if __name__ == \"__main__\":\n",
        "    report = get_report(coordinates, start_date, end_date)\n",
        "    if report:\n",
        "        data = process_data(report)\n",
        "        if data:\n",
        "            token = get_access_token(copernicus_username, copernicus_password)\n",
        "            for index, feature in enumerate(data.iterfeatures()):\n",
        "                download_image(token, feature['properties']['Id'])"
      ]
    },
    {
      "cell_type": "code",
      "execution_count": 1,
      "metadata": {},
      "outputs": [
        {
          "name": "stdout",
          "output_type": "stream",
          "text": [
            "Collecting flask\n",
            "  Downloading flask-3.0.3-py3-none-any.whl.metadata (3.2 kB)\n",
            "Collecting Werkzeug>=3.0.0 (from flask)\n",
            "  Downloading werkzeug-3.0.3-py3-none-any.whl.metadata (3.7 kB)\n",
            "Collecting Jinja2>=3.1.2 (from flask)\n",
            "  Downloading jinja2-3.1.4-py3-none-any.whl.metadata (2.6 kB)\n",
            "Collecting itsdangerous>=2.1.2 (from flask)\n",
            "  Downloading itsdangerous-2.2.0-py3-none-any.whl.metadata (1.9 kB)\n",
            "Collecting click>=8.1.3 (from flask)\n",
            "  Using cached click-8.1.7-py3-none-any.whl.metadata (3.0 kB)\n",
            "Collecting blinker>=1.6.2 (from flask)\n",
            "  Downloading blinker-1.8.2-py3-none-any.whl.metadata (1.6 kB)\n",
            "Requirement already satisfied: importlib-metadata>=3.6.0 in ./.venv/lib/python3.9/site-packages (from flask) (7.1.0)\n",
            "Requirement already satisfied: zipp>=0.5 in ./.venv/lib/python3.9/site-packages (from importlib-metadata>=3.6.0->flask) (3.18.1)\n",
            "Collecting MarkupSafe>=2.0 (from Jinja2>=3.1.2->flask)\n",
            "  Downloading MarkupSafe-2.1.5-cp39-cp39-macosx_10_9_universal2.whl.metadata (3.0 kB)\n",
            "Downloading flask-3.0.3-py3-none-any.whl (101 kB)\n",
            "\u001b[2K   \u001b[90m━━━━━━━━━━━━━━━━━━━━━━━━━━━━━━━━━━━━━━━━\u001b[0m \u001b[32m101.7/101.7 kB\u001b[0m \u001b[31m1.7 MB/s\u001b[0m eta \u001b[36m0:00:00\u001b[0ma \u001b[36m0:00:01\u001b[0m\n",
            "\u001b[?25hDownloading blinker-1.8.2-py3-none-any.whl (9.5 kB)\n",
            "Using cached click-8.1.7-py3-none-any.whl (97 kB)\n",
            "Downloading itsdangerous-2.2.0-py3-none-any.whl (16 kB)\n",
            "Downloading jinja2-3.1.4-py3-none-any.whl (133 kB)\n",
            "\u001b[2K   \u001b[90m━━━━━━━━━━━━━━━━━━━━━━━━━━━━━━━━━━━━━━━━\u001b[0m \u001b[32m133.3/133.3 kB\u001b[0m \u001b[31m1.8 MB/s\u001b[0m eta \u001b[36m0:00:00\u001b[0m \u001b[36m0:00:01\u001b[0m\n",
            "\u001b[?25hDownloading werkzeug-3.0.3-py3-none-any.whl (227 kB)\n",
            "\u001b[2K   \u001b[90m━━━━━━━━━━━━━━━━━━━━━━━━━━━━━━━━━━━━━━━━\u001b[0m \u001b[32m227.3/227.3 kB\u001b[0m \u001b[31m1.3 MB/s\u001b[0m eta \u001b[36m0:00:00\u001b[0m \u001b[36m0:00:01\u001b[0mm\n",
            "\u001b[?25hDownloading MarkupSafe-2.1.5-cp39-cp39-macosx_10_9_universal2.whl (18 kB)\n",
            "Installing collected packages: MarkupSafe, itsdangerous, click, blinker, Werkzeug, Jinja2, flask\n",
            "Successfully installed Jinja2-3.1.4 MarkupSafe-2.1.5 Werkzeug-3.0.3 blinker-1.8.2 click-8.1.7 flask-3.0.3 itsdangerous-2.2.0\n",
            "Note: you may need to restart the kernel to use updated packages.\n"
          ]
        }
      ],
      "source": [
        "pip install flask"
      ]
    },
    {
      "cell_type": "code",
      "execution_count": 2,
      "metadata": {},
      "outputs": [],
      "source": [
        "from flask import Flask, request"
      ]
    },
    {
      "cell_type": "code",
      "execution_count": 3,
      "metadata": {},
      "outputs": [],
      "source": [
        "app = Flask(__name__)\n",
        "\n",
        "@app.route(\"/images\")\n",
        "def get_images():\n",
        "    latitude = request.args.get('latitude')\n",
        "    longitude = request.args.get('longitude')\n",
        "    from_date = request.args.get(\"from\")\n",
        "    to_date = request.args.get(\"to\")\n",
        "\n",
        "    if latitude and longitude and from_date and to_date:\n",
        "        images = []\n",
        "        report = get_report(Coordinates(latitude=latitude, longitude=longitude), datetime(from_date), datetime(to_date))\n",
        "        if (report):\n",
        "            data = process_data(report)\n",
        "            if data:\n",
        "                token = get_access_token(copernicus_username, copernicus_password)\n",
        "                for feature in data.iterfeatures():\n",
        "                    images.append(download_image(token, feature[\"property\"][\"Id\"]))\n",
        "        return images\n",
        "\n",
        "    return \"<p>Error</p>\", 300"
      ]
    },
    {
      "cell_type": "code",
      "execution_count": 4,
      "metadata": {},
      "outputs": [
        {
          "name": "stdout",
          "output_type": "stream",
          "text": [
            " * Serving Flask app '__main__'\n",
            " * Debug mode: off\n"
          ]
        },
        {
          "name": "stderr",
          "output_type": "stream",
          "text": [
            "\u001b[31m\u001b[1mWARNING: This is a development server. Do not use it in a production deployment. Use a production WSGI server instead.\u001b[0m\n",
            " * Running on http://127.0.0.1:5000\n",
            "\u001b[33mPress CTRL+C to quit\u001b[0m\n",
            "127.0.0.1 - - [13/May/2024 10:33:52] \"\u001b[33mGET / HTTP/1.1\u001b[0m\" 404 -\n",
            "127.0.0.1 - - [13/May/2024 10:33:52] \"\u001b[33mGET /favicon.ico HTTP/1.1\u001b[0m\" 404 -\n",
            "127.0.0.1 - - [13/May/2024 10:33:57] \"GET /images HTTP/1.1\" 200 -\n"
          ]
        },
        {
          "name": "stdout",
          "output_type": "stream",
          "text": [
            "None\n"
          ]
        },
        {
          "name": "stderr",
          "output_type": "stream",
          "text": [
            "127.0.0.1 - - [13/May/2024 10:34:19] \"GET /images?latitude=32.323432 HTTP/1.1\" 200 -\n"
          ]
        },
        {
          "name": "stdout",
          "output_type": "stream",
          "text": [
            "32.323432\n"
          ]
        }
      ],
      "source": [
        "app.run()"
      ]
    }
  ],
  "metadata": {
    "colab": {
      "provenance": []
    },
    "kernelspec": {
      "display_name": "Python 3",
      "name": "python3"
    },
    "language_info": {
      "codemirror_mode": {
        "name": "ipython",
        "version": 3
      },
      "file_extension": ".py",
      "mimetype": "text/x-python",
      "name": "python",
      "nbconvert_exporter": "python",
      "pygments_lexer": "ipython3",
      "version": "3.9.6"
    }
  },
  "nbformat": 4,
  "nbformat_minor": 0
}
